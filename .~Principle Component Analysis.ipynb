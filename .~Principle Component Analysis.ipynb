{
 "cells": [
  {
   "cell_type": "markdown",
   "metadata": {},
   "source": [
    "# Principle Component Analysis\n",
    "***\n",
    "## What is the point of Principle Component Analysis?\n",
    "\n",
    "Principle Component Analyis (PCA) is a method of dimension reduction which can be used to take data with many dimesensions and convert it into a new representation with fewer dimensions. The benefit of this is that high dimensional data can then be reduced down to its most significant compnents which enables easy visualisation and can help with data analysis.  \n",
    "\n",
    "PCA boils down to solving:\n",
    "\n",
    "$$W^{*} = \\sum{\\operatorname{argmax_{W^{T}W = I}}} W^{T}X^{T}XW$$\n",
    "\n",
    "Where $W$ is a matrix containing the eigenvectors of the covariance matrix $X^{T}X$ and then applying the transformation $W$:\n",
    "$$X_{new} = X_{old}W$$\n",
    "\n",
    "### The Basics\n",
    "The purpose of PCA is most intuativly obvious when working with simple a set of simple 2D dataset. Firstly we must lead the data then we can transform it into its PCA representation.\n"
   ]
  },
  {
   "cell_type": "code",
   "execution_count": 3,
   "metadata": {},
   "outputs": [
    {
     "data": {
      "text/html": [
       "<div>\n",
       "<style scoped>\n",
       "    .dataframe tbody tr th:only-of-type {\n",
       "        vertical-align: middle;\n",
       "    }\n",
       "\n",
       "    .dataframe tbody tr th {\n",
       "        vertical-align: top;\n",
       "    }\n",
       "\n",
       "    .dataframe thead th {\n",
       "        text-align: right;\n",
       "    }\n",
       "</style>\n",
       "<table border=\"1\" class=\"dataframe\">\n",
       "  <thead>\n",
       "    <tr style=\"text-align: right;\">\n",
       "      <th></th>\n",
       "      <th>X</th>\n",
       "      <th>Y</th>\n",
       "    </tr>\n",
       "  </thead>\n",
       "  <tbody>\n",
       "    <tr>\n",
       "      <th>0</th>\n",
       "      <td>9.1</td>\n",
       "      <td>28.2</td>\n",
       "    </tr>\n",
       "    <tr>\n",
       "      <th>1</th>\n",
       "      <td>17.3</td>\n",
       "      <td>52.6</td>\n",
       "    </tr>\n",
       "    <tr>\n",
       "      <th>2</th>\n",
       "      <td>-17.5</td>\n",
       "      <td>-15.0</td>\n",
       "    </tr>\n",
       "    <tr>\n",
       "      <th>3</th>\n",
       "      <td>-6.7</td>\n",
       "      <td>2.6</td>\n",
       "    </tr>\n",
       "    <tr>\n",
       "      <th>4</th>\n",
       "      <td>-15.5</td>\n",
       "      <td>-28.0</td>\n",
       "    </tr>\n",
       "  </tbody>\n",
       "</table>\n",
       "</div>"
      ],
      "text/plain": [
       "      X     Y\n",
       "0   9.1  28.2\n",
       "1  17.3  52.6\n",
       "2 -17.5 -15.0\n",
       "3  -6.7   2.6\n",
       "4 -15.5 -28.0"
      ]
     },
     "execution_count": 3,
     "metadata": {},
     "output_type": "execute_result"
    }
   ],
   "source": [
    "%matplotlib inline\n",
    "\n",
    "import numpy as np\n",
    "import matplotlib.pyplot as plt\n",
    "import pandas as pd\n",
    "import random\n",
    "from IPython.display import HTML, display\n",
    "\n",
    "data = pd.read_csv('jupyterfiles/data.csv')\n",
    "data.head()\n",
    "\n",
    "data.head()"
   ]
  },
  {
   "cell_type": "markdown",
   "metadata": {},
   "source": [
    "The table contains a sample of the basic data we shall be running PCA on - and the graph below visualises the entire dataset"
   ]
  },
  {
   "cell_type": "code",
   "execution_count": 4,
   "metadata": {},
   "outputs": [
    {
     "data": {
      "text/plain": [
       "[<matplotlib.lines.Line2D at 0xc8358b0>]"
      ]
     },
     "execution_count": 4,
     "metadata": {},
     "output_type": "execute_result"
    },
    {
     "data": {
      "image/png": "[encoded data removed]",
      "text/plain": [
       "<Figure size 432x288 with 1 Axes>"
      ]
     },
     "metadata": {
      "needs_background": "light"
     },
     "output_type": "display_data"
    }
   ],
   "source": [
    "plt.grid(color='b', linestyle='-', linewidth=1, alpha=0.1)\n",
    "plt.plot(data[\"X\"], data[\"Y\"], \"r+\")"
   ]
  },
  {
   "cell_type": "markdown",
   "metadata": {},
   "source": [
    "## Step Two: Mean centring the data\n",
    "PCA is performed on the mean centred covariance matrix so prior to doing PCA we must first calculate this by summing each column, dividing by the number of elements in the column, and then subtracting the value from every element in the column.\n",
    "\n",
    "$$X^{C}_{ij} = X^{C}_{ij} - \\frac{\\sum_{p=0}^{n} X_{pj}}{n}$$\n",
    "\n"
   ]
  },
  {
   "cell_type": "code",
   "execution_count": 21,
   "metadata": {},
   "outputs": [
    {
     "data": {
      "text/plain": [
       "[<matplotlib.lines.Line2D at 0x19fba70>]"
      ]
     },
     "execution_count": 21,
     "metadata": {},
     "output_type": "execute_result"
    },
    {
     "data": {
      "image/png": "[encoded data removed]",
      "text/plain": [
       "<Figure size 432x288 with 1 Axes>"
      ]
     },
     "metadata": {
      "needs_background": "light"
     },
     "output_type": "display_data"
    }
   ],
   "source": [
    "def meanCentre(matrix):\n",
    "    result = matrix.copy()\n",
    "    for column in matrix:\n",
    "        columnTotal = 0\n",
    "        for i in range(len(matrix[column])):\n",
    "            columnTotal += matrix[column][i] \n",
    "            \n",
    "        columnMean = columnTotal / len(matrix[column])\n",
    "        \n",
    "        for i in range(len(matrix[column])):\n",
    "            result[column][i] -= columnMean\n",
    "    \n",
    "    return result\n",
    "\n",
    "centredData = meanCentre(data)\n",
    "centredData.head()\n",
    "\n",
    "plt.grid(color='b', linestyle='-', linewidth=1, alpha=0.1)\n",
    "plt.plot(centredData[\"X\"], centredData[\"Y\"], \"r+\")"
   ]
  },
  {
   "cell_type": "markdown",
   "metadata": {},
   "source": [
    "## Step One: Finding the vector of most variance\n",
    "In order to find the PCA representation of our data we should first find the vector of greatest variance within our data, conviently this is the larget eigenvector, (the eigenvector with the largest eigenvalue λ). There are many possible methods to finding the largest eigenvector:\n",
    "2. Power Iteration\n",
    "3. Finding component maximum variance\n",
    "\n",
    "### Power Iteration\n",
    "Power iteration is a method of estimating the eigenvectors of a square matrix. The algorithm can estimate the largest eigenvector of a data set as long as it is significantly dominating, i.e. its eigenvalue is significantly larger, than he other eigenvalues."
   ]
  },
  {
   "cell_type": "code",
   "execution_count": 49,
   "metadata": {},
   "outputs": [],
   "source": [
    "def multiplyDataFrames(a, b):\n",
    "    mul = np.matmul(a,  b)\n",
    "    res = pd.DataFrame(mul)\n",
    "    return res\n",
    "\n",
    "def normalizeMatrix(matrix):\n",
    "    matrixSum = 0\n",
    "    for index, element in matrix.iterrows():\n",
    "        matrixSum += element ** 2\n",
    "    return matrix / np.sqrt(matrixSum)\n",
    "    \n",
    "def powerIteration(matrix):\n",
    "    covarianceMatrix = centredData.cov()    \n",
    "    w = pd.DataFrame([random.randint(-100000,100000)/100 for i in range(0, centredData.shape[1])])\n",
    "    w = normalizeMatrix(w)    \n",
    "    \n",
    "    for i in range(100):\n",
    "        w = multiplyDataFrames(covarianceMatrix, w)        \n",
    "        w = normalizeMatrix(w)  \n",
    "    \n",
    "    return w"
   ]
  },
  {
   "cell_type": "markdown",
   "metadata": {},
   "source": [
    "### Black Box Solution\n",
    "The eigenvectors and values of a square matrix can also be computed using the `eig` function from `numpy`. In order to be compatible with our iterative PCA function, as defined lower down, we can use the `eig` function to compute the eigenvalues and vectors of a given matrix and then simply return the eigenvector with the largest corresponding eigenvalue."
   ]
  },
  {
   "cell_type": "code",
   "execution_count": 138,
   "metadata": {},
   "outputs": [],
   "source": [
    "def blackBoxLargestEigenVector(matrix):\n",
    "    eigenValues, eigenVectors = np.linalg.eig(matrix.cov())\n",
    "    \n",
    "    indexOfLargestEigenValue = 0\n",
    "    largestEigenValue = eigenValues[0]\n",
    "    \n",
    "    for i in range(len(eigenValues)):\n",
    "        if eigenValues[i] > largestEigenValue:\n",
    "            largestEigenValue = eigenValues[i]\n",
    "            indexOfLargestEigenValue = i\n",
    "            \n",
    "    n = pd.DataFrame(eigenVectors[indexOfLargestEigenValue])\n",
    "    \n",
    "    return n"
   ]
  },
  {
   "cell_type": "markdown",
   "metadata": {},
   "source": [
    "### Iterative PCA Algorithm\n",
    "Once a method for computing the largest eigenvector has been defined then we can use this as part of performing PCA. Our iterative algorithm computes $W$ which is the transformation that converts the existing mean centred data to its PCA represention. The algorithm is:\n",
    "1. Calculate the mean centred data\n",
    "2. Set z to a copy of the mean centred data\n",
    "3. For i from 0 to k:\n",
    "    1. Calculate the largest eigenvector of the matrix z\n",
    "    2. Append the largest eigenvector to w\n",
    "    3. Set z to a copy of the mean centred data\n",
    "    4. For j from 0 to (k + 1):\n",
    "        1. Remove the projection of the so far computed eigenvectors, in w, from the data in z\n",
    "4. Return w\n"
   ]
  },
  {
   "cell_type": "code",
   "execution_count": 139,
   "metadata": {},
   "outputs": [],
   "source": [
    "def pca(data, k, firstEigenVectorFunc):\n",
    "    centredData = meanCentre(data)\n",
    "    w = pd.DataFrame()\n",
    "    z = centredData.copy()   \n",
    "    \n",
    "    for i in range(k):\n",
    "        wi = firstEigenVectorFunc(z) \n",
    "        wi.columns = [i]\n",
    "        w = pd.concat([w, wi], axis = 1)\n",
    "        z = centredData.copy()\n",
    "        for j in range(i + 1):\n",
    "            wjwjt = multiplyDataFrames(pd.DataFrame(w[j]), pd.DataFrame(w[j]).transpose())\n",
    "            \n",
    "            projection = multiplyDataFrames(centredData.copy(), wjwjt)\n",
    "            z = np.subtract(z, projection) \n",
    "        \n",
    "    return w"
   ]
  },
  {
   "cell_type": "markdown",
   "metadata": {},
   "source": [
    "### One Dimensional Representation"
   ]
  },
  {
   "cell_type": "code",
   "execution_count": 147,
   "metadata": {},
   "outputs": [
    {
     "data": {
      "text/plain": [
       "[<matplotlib.lines.Line2D at 0xee16330>]"
      ]
     },
     "execution_count": 147,
     "metadata": {},
     "output_type": "execute_result"
    },
    {
     "data": {
      "image/png": "[encoded data removed]",
      "text/plain": [
       "<Figure size 432x288 with 1 Axes>"
      ]
     },
     "metadata": {
      "needs_background": "light"
     },
     "output_type": "display_data"
    }
   ],
   "source": [
    "w = pca(data, 1, blackBoxLargestEigenVector)\n",
    "\n",
    "xNew = multiplyDataFrames(centredData, w)\n",
    "plt.plot(xNew[0], [0] * 200, \"r+\")"
   ]
  },
  {
   "cell_type": "code",
   "execution_count": null,
   "metadata": {},
   "outputs": [],
   "source": []
  },
  {
   "cell_type": "code",
   "execution_count": 146,
   "metadata": {},
   "outputs": [
    {
     "data": {
      "text/plain": [
       "[<matplotlib.lines.Line2D at 0xedd5b30>]"
      ]
     },
     "execution_count": 146,
     "metadata": {},
     "output_type": "execute_result"
    },
    {
     "data": {
      "image/png": "[encoded data removed]",
      "text/plain": [
       "<Figure size 432x288 with 1 Axes>"
      ]
     },
     "metadata": {
      "needs_background": "light"
     },
     "output_type": "display_data"
    }
   ],
   "source": [
    "w = pca(data, 2, blackBoxLargestEigenVector)\n",
    "\n",
    "xNew = multiplyDataFrames(centredData, w)\n",
    "plt.plot(xNew[0], xNew[1], \"r+\")"
   ]
  },
  {
   "cell_type": "code",
   "execution_count": null,
   "metadata": {},
   "outputs": [],
   "source": []
  }
 ],
 "metadata": {
  "kernelspec": {
   "display_name": "Python 3",
   "language": "python",
   "name": "python3"
  },
  "language_info": {
   "codemirror_mode": {
    "name": "ipython",
    "version": 3
   },
   "file_extension": ".py",
   "mimetype": "text/x-python",
   "name": "python",
   "nbconvert_exporter": "python",
   "pygments_lexer": "ipython3",
   "version": "3.6.5"
  }
 },
 "nbformat": 4,
 "nbformat_minor": 2
}
